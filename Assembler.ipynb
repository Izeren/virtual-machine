{
 "cells": [
  {
   "cell_type": "code",
   "execution_count": null,
   "metadata": {
    "collapsed": true
   },
   "outputs": [],
   "source": [
    "from struct import pack\n",
    "from struct import unpack"
   ]
  },
  {
   "cell_type": "code",
   "execution_count": null,
   "metadata": {
    "collapsed": false
   },
   "outputs": [],
   "source": [
    "command_codes = { \n",
    "    'STOP': 1,\n",
    "    'PRINT': 2,\n",
    "    'PRINT_INT': 3,\n",
    "    'READ_INT': 4,\n",
    "    'MV': 5,\n",
    "    'JUMP': 6,\n",
    "    'IF_EQ': 7,\n",
    "    'CJUMP': 8,\n",
    "    'ADD': 9,\n",
    "    'SUB': 10,\n",
    "    'PUSH': 11,\n",
    "    'POP': 12,\n",
    "    'GET': 13,\n",
    "    'PUSH_IP': 14,\n",
    "    'LS_INC': 15,\n",
    "    'LS_DEC': 16\n",
    "}"
   ]
  },
  {
   "cell_type": "code",
   "execution_count": null,
   "metadata": {
    "collapsed": true
   },
   "outputs": [],
   "source": [
    "def add_int(line, var_addresses, binary, position):\n",
    "    name, value = line.split(' ')\n",
    "    var_addresses[name] = position\n",
    "    binary.write(pack('>I', int(value)))\n",
    "    return position + 1"
   ]
  },
  {
   "cell_type": "code",
   "execution_count": null,
   "metadata": {
    "collapsed": true
   },
   "outputs": [],
   "source": [
    "def add_str(line, var_addresses, binary, position):\n",
    "    name, value = line.split(' ', 1)\n",
    "    var_addresses[name] = position\n",
    "    value = value[1:-1]\n",
    "    binary.write(pack('>I', len(value)))\n",
    "    value += (4 - len(value) % 4) * '\\0'\n",
    "    binary.write(value)\n",
    "    return position + len(value) / 4 + 1"
   ]
  },
  {
   "cell_type": "code",
   "execution_count": null,
   "metadata": {
    "collapsed": true
   },
   "outputs": [],
   "source": [
    "def position_to_address(position):\n",
    "    return pack('B', position * 4)"
   ]
  },
  {
   "cell_type": "code",
   "execution_count": null,
   "metadata": {
    "collapsed": true
   },
   "outputs": [],
   "source": [
    "def position_from_address(position):\n",
    "    return pack('>H', position * 4)"
   ]
  },
  {
   "cell_type": "code",
   "execution_count": null,
   "metadata": {
    "collapsed": false
   },
   "outputs": [],
   "source": [
    "def assembly_command(command, args, var_addresses, code_labels, binary, position, bad_labels):\n",
    "    binary.write(pack('B', command_codes[command]))\n",
    "    if command == 'STOP':\n",
    "        binary.write(b'\\0\\0\\0')\n",
    "    elif command == 'PRINT':\n",
    "        binary.write(b'\\0')\n",
    "        binary.write(position_from_address(var_addresses[args[0]]))\n",
    "    elif command == 'PRINT_INT':\n",
    "        binary.write(b'\\0')\n",
    "        binary.write(position_from_address(var_addresses[args[0]]))\n",
    "    elif command == 'READ_INT':\n",
    "        binary.write(b'\\0\\0\\0')\n",
    "    elif command == 'MV':\n",
    "        binary.write(position_to_address(var_addresses[args[0]]))\n",
    "        binary.write(position_from_address(var_addresses[args[1]]))\n",
    "    elif command == 'IF_EQ':\n",
    "        binary.write(position_to_address(var_addresses[args[0]]))\n",
    "        binary.write(position_from_address(var_addresses[args[1]]))\n",
    "    elif command == 'CJUMP' or command == 'JUMP':\n",
    "        binary.write(b'\\0')\n",
    "        if args[0] in code_labels:\n",
    "            binary.write(position_from_address(code_labels[args[0]]))\n",
    "        else:\n",
    "            bad_labels[args[0]] = [position, 0]\n",
    "            binary.write(b'\\0\\0')\n",
    "    elif command == 'ADD':\n",
    "        binary.write(position_to_address(var_addresses[args[0]]))\n",
    "        binary.write(position_from_address(var_addresses[args[1]]))\n",
    "    elif command == 'SUB':\n",
    "        binary.write(position_to_address(var_addresses[args[0]]))\n",
    "        binary.write(position_from_address(var_addresses[args[1]]))\n",
    "    elif command == 'PUSH':\n",
    "        binary.write(b'\\0')\n",
    "        binary.write(position_from_address(var_addresses[args[0]]))\n",
    "    elif command == 'POP':\n",
    "        binary.write(b'\\0')\n",
    "        binary.write(position_from_address(var_addresses[args[0]]))\n",
    "    elif command == 'GET':\n",
    "        binary.write(position_to_address(var_addresses[args[0]]))\n",
    "        binary.write(position_from_address(var_addresses[args[1]]))\n",
    "\n",
    "    return position + 1"
   ]
  },
  {
   "cell_type": "code",
   "execution_count": null,
   "metadata": {
    "collapsed": false
   },
   "outputs": [],
   "source": [
    "def parse_code_line(line):\n",
    "    splitted = line.split('\"')\n",
    "    if splitted[0] == '':\n",
    "        label = splitted[1]\n",
    "        splitted = splitted[2][1:].split(' ', 1)\n",
    "        return label, splitted[0], splitted[1].split(' ') if len(splitted) > 1 else None\n",
    "    else:\n",
    "        splitted = line.split(' ')\n",
    "        return None, splitted[0], splitted[1:] if len(splitted) > 1 else None"
   ]
  },
  {
   "cell_type": "code",
   "execution_count": null,
   "metadata": {
    "collapsed": true
   },
   "outputs": [],
   "source": [
    "def assembly_data(lines, binary):\n",
    "    var_addresses = {}\n",
    "    position = 0\n",
    "    position = add_int('IP 0', var_addresses, binary, position)\n",
    "    position = add_int('LL 0', var_addresses, binary, position)\n",
    "    position = add_int('LS 0', var_addresses, binary, position)\n",
    "    position = add_int('_TMP_RET 0', var_addresses, binary, position)\n",
    "    for line in lines:\n",
    "        if line.find('\"') == -1:\n",
    "            position = add_int(line, var_addresses, binary, position)\n",
    "        else:\n",
    "            position = add_str(line, var_addresses, binary, position)\n",
    "    return var_addresses, position"
   ]
  },
  {
   "cell_type": "code",
   "execution_count": null,
   "metadata": {
    "collapsed": true
   },
   "outputs": [],
   "source": [
    "def assembly_code(parsed_commands, var_addresses, binary, position):\n",
    "    code_labels = {}\n",
    "    bad_labels = {}\n",
    "    start_position = position\n",
    "    for parsed_command in parsed_commands:\n",
    "        label, command, args = parsed_command\n",
    "        if label is not None:\n",
    "            code_labels[label] = position\n",
    "            if label in bad_labels:\n",
    "                bad_labels[label][1] = position\n",
    "        position = assembly_command(command, args, var_addresses, code_labels, binary, position, bad_labels)\n",
    "    return bad_labels, start_position, position"
   ]
  },
  {
   "cell_type": "code",
   "execution_count": null,
   "metadata": {
    "collapsed": true
   },
   "outputs": [],
   "source": [
    "def prepare_asm(path_to_asm):\n",
    "    lines = open(path_to_asm, 'r')\n",
    "    constants = {}\n",
    "    data_lines = []\n",
    "    code_lines = []\n",
    "    functions_lines = []\n",
    "    additional_var_id = 0\n",
    "    for line in lines:\n",
    "        if line.find(\"START\") != -1:\n",
    "            break\n",
    "        data_lines.append(line[:-1])\n",
    "    for line in lines:\n",
    "        if line.find(\"STACK\") != -1:\n",
    "            break\n",
    "        parsed_command = parse_code_line(line[:-1]) \n",
    "        if parsed_command[1] == \"CALL\":\n",
    "            code_lines.append([None, 'PUSH', [parsed_command[2][1]]])\n",
    "            code_lines.append([None, 'PUSH_IP', ['2']])\n",
    "            code_lines.append([None, 'JUMP', [parsed_command[2][0]]])\n",
    "        elif parsed_command[1] == \"RET\":\n",
    "            code_lines.append([None, 'POP', ['_TMP_RET']])\n",
    "            code_lines.append([None, 'LS_DEC', ['LS']])\n",
    "            code_lines.append([None, 'LS_DEC', ['1']])\n",
    "            code_lines.append([None, 'PUSH', [parsed_command[2][0]]])\n",
    "            code_lines.append([None, 'JUMP', ['_TMP_RET']])\n",
    "    new_parsed_commands = []\n",
    "    for command in code_lines:\n",
    "        new_declarations, new_command = replace_consts(command, constants)\n",
    "        for new_declaration in new_declarations:\n",
    "            data_lines.append[new_declarations]\n",
    "        new_parsed_commands.append(new_command)\n",
    "    lines.close()\n",
    "    return data_lines, new_parsed_commands"
   ]
  },
  {
   "cell_type": "code",
   "execution_count": null,
   "metadata": {
    "collapsed": false
   },
   "outputs": [],
   "source": [
    "def assembly(path_to_asm, path_to_save):\n",
    "    data_lines, parsed_commands = prepare_asm(path_to_asm)\n",
    "    binary = open(path_to_save, 'w+b')\n",
    "    \n",
    "    var_addresses, position = assembly_data(data_lines, binary)\n",
    "    bad_labels, start_position, stack_position = assembly_code(parsed_commands, var_addresses, binary, position)\n",
    "    binary.write(b'\\0'*1024)\n",
    "    binary.seek(0)\n",
    "    binary.write(pack('>I', start_position * 4))\n",
    "    binary.seek(8)\n",
    "    binary.write(pack('>I', stack_position * 4))\n",
    "    for key, value in bad_labels.iteritems():\n",
    "        binary.seek(value[0] * 4 + 2)\n",
    "        binary.write(position_from_address(value[1]))\n",
    "    binary.close()"
   ]
  },
  {
   "cell_type": "code",
   "execution_count": null,
   "metadata": {
    "collapsed": true
   },
   "outputs": [],
   "source": [
    "import mmap\n",
    "block_size = 4\n",
    "IP_position = 0\n",
    "LL_position = block_size\n",
    "LS_position = block_size * 2"
   ]
  },
  {
   "cell_type": "code",
   "execution_count": null,
   "metadata": {
    "collapsed": true
   },
   "outputs": [],
   "source": [
    "def STOP(IP, args, binary):\n",
    "    return True"
   ]
  },
  {
   "cell_type": "code",
   "execution_count": null,
   "metadata": {
    "collapsed": true
   },
   "outputs": [],
   "source": [
    "def PRINT(IP, args, binary):\n",
    "    length = get_int(args[1], binary)\n",
    "    start = args[1]+block_size\n",
    "    print binary[start:start+length]\n",
    "    set_int(IP_position, binary, IP + block_size)\n",
    "    return False"
   ]
  },
  {
   "cell_type": "code",
   "execution_count": null,
   "metadata": {
    "collapsed": true
   },
   "outputs": [],
   "source": [
    "def PRINT_INT(IP, args, binary):\n",
    "    print get_int(args[1], binary)\n",
    "    set_int(IP_position, binary, IP + block_size)\n",
    "    return False"
   ]
  },
  {
   "cell_type": "code",
   "execution_count": null,
   "metadata": {
    "collapsed": true
   },
   "outputs": [],
   "source": [
    "def READ_INT(IP, args, binary):\n",
    "    number = int(input())\n",
    "    addr = get_int(LS_position, binary) + block_size\n",
    "    set_int(LS_position, binary,  addr)\n",
    "    set_int(addr, binary, number)\n",
    "    set_int(IP_position, binary, IP + block_size)\n",
    "    return False"
   ]
  },
  {
   "cell_type": "code",
   "execution_count": null,
   "metadata": {
    "collapsed": true
   },
   "outputs": [],
   "source": [
    "def MV(IP, args, binary):\n",
    "    binary[args[0]:args[0]+block_size] = binary[args[1]:args[1]+block_size]\n",
    "    set_int(IP_position, binary, IP + block_size)\n",
    "    return False"
   ]
  },
  {
   "cell_type": "code",
   "execution_count": null,
   "metadata": {
    "collapsed": true
   },
   "outputs": [],
   "source": [
    "def JUMP(IP, args, binary):\n",
    "    set_int(IP_position, binary, args[1])\n",
    "    return False"
   ]
  },
  {
   "cell_type": "code",
   "execution_count": null,
   "metadata": {
    "collapsed": true
   },
   "outputs": [],
   "source": [
    "def IF_EQ(IP, args, binary):\n",
    "    set_int(LL_position, binary, get_int(args[0], binary) == get_int(args[1], binary))\n",
    "    set_int(IP_position, binary, IP + block_size)\n",
    "    return False"
   ]
  },
  {
   "cell_type": "code",
   "execution_count": null,
   "metadata": {
    "collapsed": true
   },
   "outputs": [],
   "source": [
    "def CJUMP(IP, args, binary):\n",
    "    if get_int(LL_position, binary):\n",
    "        return JUMP(IP, args, binary)\n",
    "    set_int(IP_position, binary, IP + block_size)\n",
    "    return False"
   ]
  },
  {
   "cell_type": "code",
   "execution_count": null,
   "metadata": {
    "collapsed": true
   },
   "outputs": [],
   "source": [
    "def ADD(IP, args, binary):\n",
    "    set_int(args[0], binary, get_int(args[0], binary) + get_int(args[1], binary))\n",
    "    set_int(IP_position, binary, IP + block_size)\n",
    "    return False"
   ]
  },
  {
   "cell_type": "code",
   "execution_count": null,
   "metadata": {
    "collapsed": true
   },
   "outputs": [],
   "source": [
    "def SUB(IP, args, binary):\n",
    "    set_int(args[0], binary, get_int(args[0], binary) - get_int(args[1], binary))\n",
    "    set_int(IP_position, binary, IP + block_size)\n",
    "    return False"
   ]
  },
  {
   "cell_type": "code",
   "execution_count": null,
   "metadata": {
    "collapsed": true
   },
   "outputs": [],
   "source": [
    "def PUSH(IP, args, binary):\n",
    "    addr = get_int(LS_position, binary) + block_size\n",
    "    set_int(LS_position, binary, addr)\n",
    "    binary[addr:addr+block_size] = binary[args[1]:args[1]+block_size]\n",
    "    set_int(IP_position, binary, IP + block_size)\n",
    "    return False"
   ]
  },
  {
   "cell_type": "code",
   "execution_count": null,
   "metadata": {
    "collapsed": true
   },
   "outputs": [],
   "source": [
    "def POP(IP, args, binary):\n",
    "    addr = get_int(LS_position, binary)\n",
    "    binary[args[1]:args[1]+block_size] = binary[addr:addr+block_size]\n",
    "    set_int(LS_position, binary, addr - block_size)\n",
    "    set_int(IP_position, binary, IP + block_size)\n",
    "    return False"
   ]
  },
  {
   "cell_type": "code",
   "execution_count": null,
   "metadata": {
    "collapsed": true
   },
   "outputs": [],
   "source": [
    "def GET(IP, args, binary):\n",
    "    offset = get_int(args[0], binary) * 4\n",
    "    addr = get_int(LS_position, binary)\n",
    "    binary[args[1]:args[1]+block_size] = binary[addr-offset:addr-offset+block_size]\n",
    "    set_int(IP_position, binary, IP + block_size)\n",
    "    return False"
   ]
  },
  {
   "cell_type": "code",
   "execution_count": null,
   "metadata": {
    "collapsed": true
   },
   "outputs": [],
   "source": [
    "def PUSH_IP(IP, args, binary):\n",
    "    offset = get_int(args[1], binary) * 4\n",
    "    addr = get_int(LS_position, binary) + block_size\n",
    "    set_int(LS_position, binary, addr)\n",
    "    set_int(binary[addr:addr+block_size], binary, get_int(IP_position, binary) + offset)\n",
    "    set_int(IP_position, binary, IP + block_size)\n",
    "    return False"
   ]
  },
  {
   "cell_type": "code",
   "execution_count": null,
   "metadata": {
    "collapsed": true
   },
   "outputs": [],
   "source": [
    "def LS_INC(IP, args, binary):\n",
    "    offset = get_int(args[1], binary) * 4\n",
    "    addr = get_int(LS_position, binary)\n",
    "    set_int(LS_position, binary, addr + offset)\n",
    "    set_int(IP_position, binary, IP + block_size)\n",
    "    return False"
   ]
  },
  {
   "cell_type": "code",
   "execution_count": null,
   "metadata": {
    "collapsed": true
   },
   "outputs": [],
   "source": [
    "def LS_DEC(IP, args, binary):\n",
    "    offset = get_int(args[1], binary) * 4\n",
    "    addr = get_int(LS_position, binary)\n",
    "    set_int(LS_position, binary, addr - offset)\n",
    "    set_int(IP_position, binary, IP + block_size)\n",
    "    return False"
   ]
  },
  {
   "cell_type": "code",
   "execution_count": null,
   "metadata": {
    "collapsed": false
   },
   "outputs": [],
   "source": [
    "functions = { \n",
    "    1: STOP,\n",
    "    2: PRINT,\n",
    "    3: PRINT_INT,\n",
    "    4: READ_INT,\n",
    "    5: MV,\n",
    "    6: JUMP,\n",
    "    7: IF_EQ,\n",
    "    8: CJUMP,\n",
    "    9: ADD,\n",
    "    10: SUB,\n",
    "    11: PUSH,\n",
    "    12: POP,\n",
    "    13: GET,\n",
    "    14: PUSH_IP,\n",
    "    15: LS_INC,\n",
    "    16: LS_DEC\n",
    "}"
   ]
  },
  {
   "cell_type": "code",
   "execution_count": null,
   "metadata": {
    "collapsed": true
   },
   "outputs": [],
   "source": [
    "def get_int(position, binary):\n",
    "    return unpack('>I', binary[position:position + block_size])[0]"
   ]
  },
  {
   "cell_type": "code",
   "execution_count": null,
   "metadata": {
    "collapsed": true
   },
   "outputs": [],
   "source": [
    "def set_int(position, binary, value):\n",
    "    binary[position:position + block_size] = pack('>I', value)"
   ]
  },
  {
   "cell_type": "code",
   "execution_count": null,
   "metadata": {
    "collapsed": true
   },
   "outputs": [],
   "source": [
    "def get_command(position, binary):\n",
    "    return unpack('B', binary[position])[0]"
   ]
  },
  {
   "cell_type": "code",
   "execution_count": null,
   "metadata": {
    "collapsed": true
   },
   "outputs": [],
   "source": [
    "def get_args(position, binary):\n",
    "    return unpack('B', binary[position+1])[0], unpack('>H', binary[position+2:position+4])[0]"
   ]
  },
  {
   "cell_type": "code",
   "execution_count": null,
   "metadata": {
    "collapsed": true
   },
   "outputs": [],
   "source": [
    "def run(path_to_bin):\n",
    "    f = open(path_to_bin, 'rb')\n",
    "    binary = mmap.mmap(f.fileno(), 0, access=mmap.ACCESS_COPY)\n",
    "    stopped = False\n",
    "    while not stopped:\n",
    "        IP = get_int(IP_position, binary)\n",
    "        function = functions[get_command(IP, binary)]\n",
    "        args = get_args(IP, binary)\n",
    "#         print 'current LS', get_int(LS_position, binary), get_command(IP, binary), args\n",
    "        stopped = function(IP, args, binary)"
   ]
  },
  {
   "cell_type": "code",
   "execution_count": null,
   "metadata": {
    "collapsed": false
   },
   "outputs": [],
   "source": [
    "binary = assembly('fib.asm', 'fib.bin')"
   ]
  },
  {
   "cell_type": "code",
   "execution_count": null,
   "metadata": {
    "collapsed": false
   },
   "outputs": [],
   "source": [
    "run('fib.bin')"
   ]
  },
  {
   "cell_type": "code",
   "execution_count": null,
   "metadata": {
    "collapsed": true
   },
   "outputs": [],
   "source": []
  }
 ],
 "metadata": {
  "anaconda-cloud": {},
  "kernelspec": {
   "display_name": "Python 2",
   "language": "python",
   "name": "python2"
  },
  "language_info": {
   "codemirror_mode": {
    "name": "ipython",
    "version": 2
   },
   "file_extension": ".py",
   "mimetype": "text/x-python",
   "name": "python",
   "nbconvert_exporter": "python",
   "pygments_lexer": "ipython2",
   "version": "2.7.12"
  }
 },
 "nbformat": 4,
 "nbformat_minor": 1
}
